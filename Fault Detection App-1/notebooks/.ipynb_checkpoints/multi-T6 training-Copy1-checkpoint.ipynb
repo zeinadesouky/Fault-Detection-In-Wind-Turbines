{
 "cells": [
  {
   "cell_type": "code",
   "execution_count": 1,
   "id": "76684311",
   "metadata": {},
   "outputs": [],
   "source": [
    "import pandas as pd\n",
    "import plotly.graph_objects as go\n",
    "import matplotlib.pyplot as plt\n",
    "import numpy as np\n",
    "from sklearn.decomposition import PCA\n",
    "from sklearn.pipeline import make_pipeline\n",
    "import tensorflow as tf\n",
    "from tensorflow import keras\n",
    "from tensorflow.keras.models import Sequential\n",
    "from tensorflow.keras.layers import Dense, LSTM, Dropout, RepeatVector, TimeDistributed"
   ]
  },
  {
   "cell_type": "code",
   "execution_count": 2,
   "id": "2dde5bd2",
   "metadata": {},
   "outputs": [],
   "source": [
    "df = pd.read_csv('turbine6.csv')\n",
    "df['Timestamp'] = pd.to_datetime(df['Timestamp'])"
   ]
  },
  {
   "cell_type": "code",
   "execution_count": 3,
   "id": "9d4b9ad5",
   "metadata": {},
   "outputs": [],
   "source": [
    "train, test = df.loc[df['Timestamp'] <= '2016-09-01 00:00:00+0000'], df.loc[df['Timestamp'] > '2016-09-01 00:00:00+0000']\n",
    "timestamp=df['Timestamp']\n",
    "train2, test2 = df.loc[df['Timestamp'] <= '2016-09-01 00:00:00+0000'], df.loc[df['Timestamp'] > '2016-09-01 00:00:00+0000']"
   ]
  },
  {
   "cell_type": "code",
   "execution_count": 4,
   "id": "8ed91861",
   "metadata": {},
   "outputs": [],
   "source": [
    "train=train.drop(['Timestamp'], axis=1)"
   ]
  },
  {
   "cell_type": "code",
   "execution_count": 5,
   "id": "6f650425",
   "metadata": {},
   "outputs": [],
   "source": [
    "def create_dataset( X, y, time_steps=1):\n",
    "    Xs, ys = [], []\n",
    "    for i in range(len(X) - time_steps):\n",
    "        v = X.iloc[i:(i + time_steps)].values\n",
    "        Xs.append(v)\n",
    "        u = y.iloc[i:(i + time_steps)].values\n",
    "        ys.append(v)\n",
    "    return np.array(Xs), np.array(ys)"
   ]
  },
  {
   "cell_type": "code",
   "execution_count": 6,
   "id": "6b7941fa",
   "metadata": {},
   "outputs": [],
   "source": [
    "from sklearn.preprocessing import MinMaxScaler\n",
    "\n",
    "scaler = MinMaxScaler().fit(train)\n",
    "#train = pd.DataFrame(scaler.transform(train))\n",
    "#test = pd.DataFrame(scaler.transform(test))\n",
    "\n",
    "\n",
    "scaled_features = scaler.fit_transform(train.values)\n",
    "scaled_features_df = pd.DataFrame(scaled_features, index=train2.index, columns=train2.drop(['Timestamp'], axis=1).columns)\n",
    "train=scaled_features_df"
   ]
  },
  {
   "cell_type": "code",
   "execution_count": 7,
   "id": "ce742896",
   "metadata": {},
   "outputs": [
    {
     "data": {
      "text/html": [
       "<div>\n",
       "<style scoped>\n",
       "    .dataframe tbody tr th:only-of-type {\n",
       "        vertical-align: middle;\n",
       "    }\n",
       "\n",
       "    .dataframe tbody tr th {\n",
       "        vertical-align: top;\n",
       "    }\n",
       "\n",
       "    .dataframe thead th {\n",
       "        text-align: right;\n",
       "    }\n",
       "</style>\n",
       "<table border=\"1\" class=\"dataframe\">\n",
       "  <thead>\n",
       "    <tr style=\"text-align: right;\">\n",
       "      <th></th>\n",
       "      <th>Gen_Bear_Temp_Avg</th>\n",
       "      <th>Gen_Phase1_Temp_Avg</th>\n",
       "      <th>Hyd_Oil_Temp_Avg</th>\n",
       "      <th>HVTrafo_Phase2_Temp_Avg</th>\n",
       "      <th>Gear_Bear_Temp_Avg</th>\n",
       "      <th>Gear_Oil_Temp_Avg</th>\n",
       "    </tr>\n",
       "  </thead>\n",
       "  <tbody>\n",
       "    <tr>\n",
       "      <th>0</th>\n",
       "      <td>0.165775</td>\n",
       "      <td>0.218579</td>\n",
       "      <td>0.24</td>\n",
       "      <td>0.352941</td>\n",
       "      <td>0.756098</td>\n",
       "      <td>0.75000</td>\n",
       "    </tr>\n",
       "    <tr>\n",
       "      <th>1</th>\n",
       "      <td>0.256684</td>\n",
       "      <td>0.409836</td>\n",
       "      <td>0.76</td>\n",
       "      <td>0.750000</td>\n",
       "      <td>0.878049</td>\n",
       "      <td>0.81250</td>\n",
       "    </tr>\n",
       "    <tr>\n",
       "      <th>2</th>\n",
       "      <td>0.160428</td>\n",
       "      <td>0.224044</td>\n",
       "      <td>0.24</td>\n",
       "      <td>0.397059</td>\n",
       "      <td>0.780488</td>\n",
       "      <td>0.78125</td>\n",
       "    </tr>\n",
       "    <tr>\n",
       "      <th>3</th>\n",
       "      <td>0.203209</td>\n",
       "      <td>0.262295</td>\n",
       "      <td>0.64</td>\n",
       "      <td>0.441176</td>\n",
       "      <td>0.780488</td>\n",
       "      <td>0.78125</td>\n",
       "    </tr>\n",
       "    <tr>\n",
       "      <th>4</th>\n",
       "      <td>0.160428</td>\n",
       "      <td>0.218579</td>\n",
       "      <td>0.24</td>\n",
       "      <td>0.426471</td>\n",
       "      <td>0.780488</td>\n",
       "      <td>0.81250</td>\n",
       "    </tr>\n",
       "    <tr>\n",
       "      <th>...</th>\n",
       "      <td>...</td>\n",
       "      <td>...</td>\n",
       "      <td>...</td>\n",
       "      <td>...</td>\n",
       "      <td>...</td>\n",
       "      <td>...</td>\n",
       "    </tr>\n",
       "    <tr>\n",
       "      <th>50295</th>\n",
       "      <td>0.112299</td>\n",
       "      <td>0.109290</td>\n",
       "      <td>0.56</td>\n",
       "      <td>0.250000</td>\n",
       "      <td>0.536585</td>\n",
       "      <td>0.56250</td>\n",
       "    </tr>\n",
       "    <tr>\n",
       "      <th>50300</th>\n",
       "      <td>0.074866</td>\n",
       "      <td>0.076503</td>\n",
       "      <td>0.48</td>\n",
       "      <td>0.191176</td>\n",
       "      <td>0.414634</td>\n",
       "      <td>0.43750</td>\n",
       "    </tr>\n",
       "    <tr>\n",
       "      <th>50301</th>\n",
       "      <td>0.101604</td>\n",
       "      <td>0.109290</td>\n",
       "      <td>0.52</td>\n",
       "      <td>0.191176</td>\n",
       "      <td>0.512195</td>\n",
       "      <td>0.46875</td>\n",
       "    </tr>\n",
       "    <tr>\n",
       "      <th>50303</th>\n",
       "      <td>0.101604</td>\n",
       "      <td>0.120219</td>\n",
       "      <td>0.52</td>\n",
       "      <td>0.191176</td>\n",
       "      <td>0.487805</td>\n",
       "      <td>0.43750</td>\n",
       "    </tr>\n",
       "    <tr>\n",
       "      <th>50304</th>\n",
       "      <td>0.128342</td>\n",
       "      <td>0.147541</td>\n",
       "      <td>0.52</td>\n",
       "      <td>0.191176</td>\n",
       "      <td>0.536585</td>\n",
       "      <td>0.46875</td>\n",
       "    </tr>\n",
       "  </tbody>\n",
       "</table>\n",
       "<p>33355 rows × 6 columns</p>\n",
       "</div>"
      ],
      "text/plain": [
       "       Gen_Bear_Temp_Avg  Gen_Phase1_Temp_Avg  Hyd_Oil_Temp_Avg  \\\n",
       "0               0.165775             0.218579              0.24   \n",
       "1               0.256684             0.409836              0.76   \n",
       "2               0.160428             0.224044              0.24   \n",
       "3               0.203209             0.262295              0.64   \n",
       "4               0.160428             0.218579              0.24   \n",
       "...                  ...                  ...               ...   \n",
       "50295           0.112299             0.109290              0.56   \n",
       "50300           0.074866             0.076503              0.48   \n",
       "50301           0.101604             0.109290              0.52   \n",
       "50303           0.101604             0.120219              0.52   \n",
       "50304           0.128342             0.147541              0.52   \n",
       "\n",
       "       HVTrafo_Phase2_Temp_Avg  Gear_Bear_Temp_Avg  Gear_Oil_Temp_Avg  \n",
       "0                     0.352941            0.756098            0.75000  \n",
       "1                     0.750000            0.878049            0.81250  \n",
       "2                     0.397059            0.780488            0.78125  \n",
       "3                     0.441176            0.780488            0.78125  \n",
       "4                     0.426471            0.780488            0.81250  \n",
       "...                        ...                 ...                ...  \n",
       "50295                 0.250000            0.536585            0.56250  \n",
       "50300                 0.191176            0.414634            0.43750  \n",
       "50301                 0.191176            0.512195            0.46875  \n",
       "50303                 0.191176            0.487805            0.43750  \n",
       "50304                 0.191176            0.536585            0.46875  \n",
       "\n",
       "[33355 rows x 6 columns]"
      ]
     },
     "execution_count": 7,
     "metadata": {},
     "output_type": "execute_result"
    }
   ],
   "source": [
    "train"
   ]
  },
  {
   "cell_type": "code",
   "execution_count": 8,
   "id": "6b094f07",
   "metadata": {},
   "outputs": [],
   "source": [
    "TIME_STEPS=144\n",
    "X_train,Y_train = create_dataset(train, train, TIME_STEPS)"
   ]
  },
  {
   "cell_type": "code",
   "execution_count": 9,
   "id": "a885c245",
   "metadata": {},
   "outputs": [],
   "source": [
    "#LSTM Autoencoder\n",
    "model = Sequential()\n",
    "model.add(LSTM(units=128, input_shape=(X_train.shape[1],X_train.shape[2])))\n",
    "model.add(Dropout(rate=0.2))\n",
    "model.add(RepeatVector(n=X_train.shape[1]))\n",
    "model.add(LSTM(units=128, return_sequences=True))\n",
    "model.add(Dropout(rate=0.2))\n",
    "model.add(TimeDistributed(Dense(X_train.shape[2])))\n",
    "model.compile(optimizer='adam', loss='mae')"
   ]
  },
  {
   "cell_type": "code",
   "execution_count": 10,
   "id": "23c5d942",
   "metadata": {},
   "outputs": [
    {
     "name": "stdout",
     "output_type": "stream",
     "text": [
      "Epoch 1/100\n",
      "935/935 [==============================] - 161s 169ms/step - loss: 0.1627 - val_loss: 0.1839\n",
      "Epoch 2/100\n",
      "935/935 [==============================] - 165s 176ms/step - loss: 0.1583 - val_loss: 0.1807\n",
      "Epoch 3/100\n",
      "935/935 [==============================] - 154s 164ms/step - loss: 0.1573 - val_loss: 0.1792\n",
      "Epoch 4/100\n",
      "935/935 [==============================] - 157s 168ms/step - loss: 0.1566 - val_loss: 0.1771\n",
      "Epoch 5/100\n",
      "935/935 [==============================] - 160s 171ms/step - loss: 0.1559 - val_loss: 0.1781\n",
      "Epoch 6/100\n",
      "935/935 [==============================] - 154s 165ms/step - loss: 0.1537 - val_loss: 0.1729\n",
      "Epoch 7/100\n",
      "935/935 [==============================] - 431s 461ms/step - loss: 0.1524 - val_loss: 0.1646\n",
      "Epoch 8/100\n",
      "935/935 [==============================] - 482s 516ms/step - loss: 0.1517 - val_loss: 0.1627\n",
      "Epoch 9/100\n",
      "935/935 [==============================] - 482s 515ms/step - loss: 0.1510 - val_loss: 0.1625\n",
      "Epoch 10/100\n",
      "935/935 [==============================] - 376s 402ms/step - loss: 0.1523 - val_loss: 0.1618\n",
      "Epoch 11/100\n",
      "935/935 [==============================] - 181s 193ms/step - loss: 0.1496 - val_loss: 0.1624\n",
      "Epoch 12/100\n",
      "935/935 [==============================] - 144s 154ms/step - loss: 0.1491 - val_loss: 0.1615\n",
      "Epoch 13/100\n",
      "935/935 [==============================] - 144s 155ms/step - loss: 0.1490 - val_loss: 0.1614\n",
      "Epoch 14/100\n",
      "935/935 [==============================] - 145s 155ms/step - loss: 0.1489 - val_loss: 0.1613\n",
      "Epoch 15/100\n",
      "935/935 [==============================] - 145s 155ms/step - loss: 0.1486 - val_loss: 0.1616\n",
      "Epoch 16/100\n",
      "935/935 [==============================] - 145s 155ms/step - loss: 0.1485 - val_loss: 0.1615\n",
      "Epoch 17/100\n",
      "935/935 [==============================] - 146s 156ms/step - loss: 0.1484 - val_loss: 0.1610\n",
      "Epoch 18/100\n",
      "935/935 [==============================] - 145s 155ms/step - loss: 0.1482 - val_loss: 0.1620\n",
      "Epoch 19/100\n",
      "935/935 [==============================] - 146s 156ms/step - loss: 0.1481 - val_loss: 0.1620\n",
      "Epoch 20/100\n",
      "935/935 [==============================] - 146s 156ms/step - loss: 0.1480 - val_loss: 0.1613\n"
     ]
    }
   ],
   "source": [
    "history = model.fit(X_train, Y_train, epochs=100, batch_size=32, validation_split=0.1,\n",
    "                    callbacks=[keras.callbacks.EarlyStopping(monitor='val_loss', patience=3, mode='min')], shuffle=False)"
   ]
  },
  {
   "cell_type": "code",
   "execution_count": null,
   "id": "926a4b1a",
   "metadata": {},
   "outputs": [],
   "source": [
    "X_train_pred = model.predict(X_train, verbose=0)\n",
    "train_mae_loss = np.mean(np.abs(X_train_pred - X_train), axis=1)"
   ]
  },
  {
   "cell_type": "code",
   "execution_count": null,
   "id": "27f064cd",
   "metadata": {},
   "outputs": [],
   "source": [
    "standarddev=np.std(train_mae_loss, axis=0) \n",
    "means=np.mean(train_mae_loss, axis=0)   # Maxima along the first axis\n",
    "threshold0=means[0]+3*standarddev[0]\n",
    "threshold1=means[1]+3*standarddev[1]\n",
    "threshold2=means[2]+3*standarddev[2]\n",
    "threshold3=means[3]+3*standarddev[3]\n",
    "threshold4=means[4]+3*standarddev[4]"
   ]
  },
  {
   "cell_type": "code",
   "execution_count": 11,
   "id": "25b0fc6b",
   "metadata": {},
   "outputs": [
    {
     "name": "stderr",
     "output_type": "stream",
     "text": [
      "WARNING:absl:Found untraced functions such as lstm_cell_layer_call_fn, lstm_cell_layer_call_and_return_conditional_losses, lstm_cell_1_layer_call_fn, lstm_cell_1_layer_call_and_return_conditional_losses while saving (showing 4 of 4). These functions will not be directly callable after loading.\n"
     ]
    },
    {
     "name": "stdout",
     "output_type": "stream",
     "text": [
      "INFO:tensorflow:Assets written to: ./../savedModel/my_model\\assets\n"
     ]
    },
    {
     "name": "stderr",
     "output_type": "stream",
     "text": [
      "INFO:tensorflow:Assets written to: ./../savedModel/my_model\\assets\n",
      "WARNING:absl:<keras.layers.recurrent.LSTMCell object at 0x00000201D8202808> has the same name 'LSTMCell' as a built-in Keras object. Consider renaming <class 'keras.layers.recurrent.LSTMCell'> to avoid naming conflicts when loading with `tf.keras.models.load_model`. If renaming is not possible, pass the object in the `custom_objects` parameter of the load function.\n",
      "WARNING:absl:<keras.layers.recurrent.LSTMCell object at 0x00000201D8101F08> has the same name 'LSTMCell' as a built-in Keras object. Consider renaming <class 'keras.layers.recurrent.LSTMCell'> to avoid naming conflicts when loading with `tf.keras.models.load_model`. If renaming is not possible, pass the object in the `custom_objects` parameter of the load function.\n"
     ]
    }
   ],
   "source": [
    "filepath=('./../savedModel/my_model')\n",
    "options = tf.saved_model.SaveOptions(experimental_io_device=\"job:localhost\")\n",
    "model.save(filepath,options=options)"
   ]
  },
  {
   "cell_type": "code",
   "execution_count": null,
   "id": "1376e2e3",
   "metadata": {},
   "outputs": [],
   "source": []
  }
 ],
 "metadata": {
  "kernelspec": {
   "display_name": "Python 3 (ipykernel)",
   "language": "python",
   "name": "python3"
  },
  "language_info": {
   "codemirror_mode": {
    "name": "ipython",
    "version": 3
   },
   "file_extension": ".py",
   "mimetype": "text/x-python",
   "name": "python",
   "nbconvert_exporter": "python",
   "pygments_lexer": "ipython3",
   "version": "3.7.8"
  }
 },
 "nbformat": 4,
 "nbformat_minor": 5
}
