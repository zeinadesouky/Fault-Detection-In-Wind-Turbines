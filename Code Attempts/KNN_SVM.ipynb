{
 "cells": [
  {
   "cell_type": "code",
   "execution_count": 1,
   "metadata": {},
   "outputs": [],
   "source": [
    "import numpy as np\n",
    "import matplotlib.pyplot as plt\n",
    "import pandas as pd\n",
    "import sklearn"
   ]
  },
  {
   "cell_type": "code",
   "execution_count": 2,
   "metadata": {},
   "outputs": [],
   "source": [
    "#read scada dataset\n",
    "event = pd.read_csv('event_data.csv')"
   ]
  },
  {
   "cell_type": "code",
   "execution_count": 3,
   "metadata": {},
   "outputs": [],
   "source": [
    "#sperate data\n",
    "X= event.drop(\"stop_cat\",axis=1).values\n",
    "y = event[\"stop_cat\"].values"
   ]
  },
  {
   "cell_type": "code",
   "execution_count": 4,
   "metadata": {},
   "outputs": [],
   "source": [
    "#convert string values to int\n",
    "from sklearn.preprocessing import LabelEncoder\n",
    "le = LabelEncoder()\n",
    "X[:,2] = le.fit_transform(X[:,2]) #time_on\n",
    "X[:,3] = le.fit_transform(X[:,3]) #time_off\n",
    "X[:,4] = le.fit_transform(X[:,4]) #duration\n",
    "X[:,5] = le.fit_transform(X[:,5]) #description"
   ]
  },
  {
   "cell_type": "code",
   "execution_count": 5,
   "metadata": {},
   "outputs": [],
   "source": [
    "#split into training and test data\n",
    "from sklearn.model_selection import train_test_split\n",
    "X_train, X_test, y_train, y_test = train_test_split(X, y, test_size = 0.20, random_state = 0)"
   ]
  },
  {
   "cell_type": "code",
   "execution_count": 6,
   "metadata": {},
   "outputs": [],
   "source": [
    "#feature scaling\n",
    "from sklearn.preprocessing import StandardScaler\n",
    "sc = StandardScaler()\n",
    "X_train = sc.fit_transform(X_train)\n",
    "X_test = sc.transform(X_test)"
   ]
  },
  {
   "cell_type": "code",
   "execution_count": 7,
   "metadata": {},
   "outputs": [
    {
     "name": "stdout",
     "output_type": "stream",
     "text": [
      "['ok' 'maintenance' 'maintenance' ... 'ok' 'ok' 'ok']\n",
      "Accurasy of KNN is:   0.8849241748438894\n"
     ]
    }
   ],
   "source": [
    "#create KNN\n",
    "from sklearn.neighbors import KNeighborsClassifier\n",
    "classifier = KNeighborsClassifier(n_neighbors = 5, metric = 'minkowski', p = 2)\n",
    "classifier.fit(X_train, y_train)\n",
    "\n",
    "#prediction\n",
    "knn_pred = classifier.predict(X_test)\n",
    "\n",
    "print(knn_pred)\n",
    "\n",
    "#accuracy \n",
    "from sklearn.metrics import accuracy_score\n",
    "ac_knn = accuracy_score(y_test,knn_pred)\n",
    "print(\"Accurasy of KNN is:\",\" \",ac_knn)"
   ]
  },
  {
   "cell_type": "code",
   "execution_count": 8,
   "metadata": {},
   "outputs": [
    {
     "name": "stdout",
     "output_type": "stream",
     "text": [
      "['ok' 'ok' 'ok' ... 'ok' 'ok' 'ok']\n",
      "Accurasy of SVM model is:   0.7930419268510259\n"
     ]
    }
   ],
   "source": [
    "#SVM\n",
    "from sklearn import svm\n",
    "clf = svm.SVC()\n",
    "clf.fit(X_train, y_train)\n",
    "\n",
    "#Predict the response for test dataset\n",
    "svm_pred = clf.predict(X_test)\n",
    "\n",
    "#accuracy \n",
    "ac_svm = accuracy_score(y_test,svm_pred)\n",
    "print(svm_pred)\n",
    "print(\"Accurasy of SVM model is:\",\" \",ac_svm)"
   ]
  },
  {
   "cell_type": "code",
   "execution_count": 9,
   "metadata": {},
   "outputs": [
    {
     "name": "stdout",
     "output_type": "stream",
     "text": [
      "Accurasy of KNN is:   88.49241748438894\n",
      "Accurasy of SVM model is:   79.30419268510259\n"
     ]
    }
   ],
   "source": [
    "print(\"Accurasy of KNN is:\",\" \",ac_knn*100)\n",
    "print(\"Accurasy of SVM model is:\",\" \",ac_svm*100)"
   ]
  },
  {
   "cell_type": "code",
   "execution_count": null,
   "metadata": {},
   "outputs": [],
   "source": []
  }
 ],
 "metadata": {
  "kernelspec": {
   "display_name": "Python 3",
   "language": "python",
   "name": "python3"
  },
  "language_info": {
   "codemirror_mode": {
    "name": "ipython",
    "version": 3
   },
   "file_extension": ".py",
   "mimetype": "text/x-python",
   "name": "python",
   "nbconvert_exporter": "python",
   "pygments_lexer": "ipython3",
   "version": "3.8.5"
  }
 },
 "nbformat": 4,
 "nbformat_minor": 4
}
