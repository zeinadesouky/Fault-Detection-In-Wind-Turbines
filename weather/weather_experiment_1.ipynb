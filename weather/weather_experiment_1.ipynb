{
 "cells": [
  {
   "cell_type": "code",
   "execution_count": 1,
   "id": "b0725f93",
   "metadata": {},
   "outputs": [
    {
     "name": "stdout",
     "output_type": "stream",
     "text": [
      "Tensorflow version:  2.8.0\n"
     ]
    }
   ],
   "source": [
    "from tensorflow import keras\n",
    "import pandas as pd\n",
    "from sklearn.preprocessing import StandardScaler\n",
    "\n",
    "import plotly.graph_objects as go\n",
    "import numpy as np\n",
    "import tensorflow as tf\n",
    "\n",
    "np.random.seed(1)\n",
    "tf.random.set_seed(1)\n",
    "\n",
    "from tensorflow.keras.models import Sequential\n",
    "from tensorflow.keras.layers import Dense, LSTM, Dropout, RepeatVector, TimeDistributed\n",
    "\n",
    "print('Tensorflow version: ', tf.__version__)"
   ]
  },
  {
   "cell_type": "code",
   "execution_count": 2,
   "id": "0d24e208",
   "metadata": {},
   "outputs": [],
   "source": [
    "import numpy as np\n",
    "import pandas as pd\n",
    "from sklearn.decomposition import PCA"
   ]
  },
  {
   "cell_type": "code",
   "execution_count": 3,
   "id": "9d6f17d8",
   "metadata": {},
   "outputs": [
    {
     "name": "stdout",
     "output_type": "stream",
     "text": [
      "Requirement already satisfied: plotly==5.5.0 in ./opt/anaconda3/lib/python3.9/site-packages (5.5.0)\n",
      "Requirement already satisfied: tenacity>=6.2.0 in ./opt/anaconda3/lib/python3.9/site-packages (from plotly==5.5.0) (8.0.1)\n",
      "Requirement already satisfied: six in ./opt/anaconda3/lib/python3.9/site-packages (from plotly==5.5.0) (1.16.0)\n",
      "Note: you may need to restart the kernel to use updated packages.\n"
     ]
    }
   ],
   "source": [
    "pip install plotly==5.5.0"
   ]
  },
  {
   "cell_type": "code",
   "execution_count": 4,
   "id": "ec695ca5",
   "metadata": {},
   "outputs": [],
   "source": [
    "df = pd.read_csv('weather.csv')\n",
    "df['Timestamp'] = pd.to_datetime(df['Timestamp'])\n",
    "df = df.sort_values(by='Timestamp',ascending=True)"
   ]
  },
  {
   "cell_type": "code",
   "execution_count": 5,
   "id": "d8e9bfaa",
   "metadata": {},
   "outputs": [
    {
     "data": {
      "text/html": [
       "<div>\n",
       "<style scoped>\n",
       "    .dataframe tbody tr th:only-of-type {\n",
       "        vertical-align: middle;\n",
       "    }\n",
       "\n",
       "    .dataframe tbody tr th {\n",
       "        vertical-align: top;\n",
       "    }\n",
       "\n",
       "    .dataframe thead th {\n",
       "        text-align: right;\n",
       "    }\n",
       "</style>\n",
       "<table border=\"1\" class=\"dataframe\">\n",
       "  <thead>\n",
       "    <tr style=\"text-align: right;\">\n",
       "      <th></th>\n",
       "      <th>Timestamp</th>\n",
       "      <th>Min_Windspeed1</th>\n",
       "      <th>Max_Windspeed1</th>\n",
       "      <th>Avg_Windspeed1</th>\n",
       "      <th>Var_Windspeed1</th>\n",
       "      <th>Min_Windspeed2</th>\n",
       "      <th>Max_Windspeed2</th>\n",
       "      <th>Avg_Windspeed2</th>\n",
       "      <th>Var_Windspeed2</th>\n",
       "      <th>Min_Winddirection2</th>\n",
       "      <th>...</th>\n",
       "      <th>Anemometer2_CorrOffset</th>\n",
       "      <th>DistanceAirPress</th>\n",
       "      <th>AirRessureSensorZeroOffset</th>\n",
       "      <th>Anemometer1_Avg_Freq</th>\n",
       "      <th>Anemometer2_Avg_Freq</th>\n",
       "      <th>Pressure_Avg_Freq</th>\n",
       "      <th>Year</th>\n",
       "      <th>Month</th>\n",
       "      <th>Day</th>\n",
       "      <th>Hour</th>\n",
       "    </tr>\n",
       "  </thead>\n",
       "  <tbody>\n",
       "    <tr>\n",
       "      <th>0</th>\n",
       "      <td>2016-01-01 00:00:00+00:00</td>\n",
       "      <td>3.7</td>\n",
       "      <td>6.0</td>\n",
       "      <td>5.1</td>\n",
       "      <td>0.21</td>\n",
       "      <td>3.8</td>\n",
       "      <td>6.0</td>\n",
       "      <td>5.1</td>\n",
       "      <td>0.22</td>\n",
       "      <td>236</td>\n",
       "      <td>...</td>\n",
       "      <td>0</td>\n",
       "      <td>0</td>\n",
       "      <td>600</td>\n",
       "      <td>98</td>\n",
       "      <td>99</td>\n",
       "      <td>418</td>\n",
       "      <td>2016</td>\n",
       "      <td>1</td>\n",
       "      <td>1</td>\n",
       "      <td>0</td>\n",
       "    </tr>\n",
       "    <tr>\n",
       "      <th>1</th>\n",
       "      <td>2016-01-01 00:10:00+00:00</td>\n",
       "      <td>4.1</td>\n",
       "      <td>6.0</td>\n",
       "      <td>5.1</td>\n",
       "      <td>0.09</td>\n",
       "      <td>4.1</td>\n",
       "      <td>6.0</td>\n",
       "      <td>5.2</td>\n",
       "      <td>0.10</td>\n",
       "      <td>236</td>\n",
       "      <td>...</td>\n",
       "      <td>0</td>\n",
       "      <td>0</td>\n",
       "      <td>600</td>\n",
       "      <td>99</td>\n",
       "      <td>101</td>\n",
       "      <td>418</td>\n",
       "      <td>2016</td>\n",
       "      <td>1</td>\n",
       "      <td>1</td>\n",
       "      <td>0</td>\n",
       "    </tr>\n",
       "    <tr>\n",
       "      <th>2</th>\n",
       "      <td>2016-01-01 00:20:00+00:00</td>\n",
       "      <td>4.5</td>\n",
       "      <td>6.7</td>\n",
       "      <td>5.7</td>\n",
       "      <td>0.26</td>\n",
       "      <td>4.4</td>\n",
       "      <td>6.8</td>\n",
       "      <td>5.8</td>\n",
       "      <td>0.30</td>\n",
       "      <td>236</td>\n",
       "      <td>...</td>\n",
       "      <td>0</td>\n",
       "      <td>0</td>\n",
       "      <td>600</td>\n",
       "      <td>111</td>\n",
       "      <td>113</td>\n",
       "      <td>418</td>\n",
       "      <td>2016</td>\n",
       "      <td>1</td>\n",
       "      <td>1</td>\n",
       "      <td>0</td>\n",
       "    </tr>\n",
       "    <tr>\n",
       "      <th>3</th>\n",
       "      <td>2016-01-01 00:30:00+00:00</td>\n",
       "      <td>5.1</td>\n",
       "      <td>7.0</td>\n",
       "      <td>6.3</td>\n",
       "      <td>0.11</td>\n",
       "      <td>5.1</td>\n",
       "      <td>7.1</td>\n",
       "      <td>6.4</td>\n",
       "      <td>0.12</td>\n",
       "      <td>236</td>\n",
       "      <td>...</td>\n",
       "      <td>0</td>\n",
       "      <td>0</td>\n",
       "      <td>600</td>\n",
       "      <td>122</td>\n",
       "      <td>125</td>\n",
       "      <td>418</td>\n",
       "      <td>2016</td>\n",
       "      <td>1</td>\n",
       "      <td>1</td>\n",
       "      <td>0</td>\n",
       "    </tr>\n",
       "    <tr>\n",
       "      <th>4</th>\n",
       "      <td>2016-01-01 00:40:00+00:00</td>\n",
       "      <td>4.7</td>\n",
       "      <td>7.3</td>\n",
       "      <td>6.2</td>\n",
       "      <td>0.27</td>\n",
       "      <td>4.9</td>\n",
       "      <td>7.4</td>\n",
       "      <td>6.3</td>\n",
       "      <td>0.27</td>\n",
       "      <td>236</td>\n",
       "      <td>...</td>\n",
       "      <td>0</td>\n",
       "      <td>0</td>\n",
       "      <td>600</td>\n",
       "      <td>121</td>\n",
       "      <td>123</td>\n",
       "      <td>417</td>\n",
       "      <td>2016</td>\n",
       "      <td>1</td>\n",
       "      <td>1</td>\n",
       "      <td>0</td>\n",
       "    </tr>\n",
       "  </tbody>\n",
       "</table>\n",
       "<p>5 rows × 45 columns</p>\n",
       "</div>"
      ],
      "text/plain": [
       "                  Timestamp  Min_Windspeed1  Max_Windspeed1  Avg_Windspeed1  \\\n",
       "0 2016-01-01 00:00:00+00:00             3.7             6.0             5.1   \n",
       "1 2016-01-01 00:10:00+00:00             4.1             6.0             5.1   \n",
       "2 2016-01-01 00:20:00+00:00             4.5             6.7             5.7   \n",
       "3 2016-01-01 00:30:00+00:00             5.1             7.0             6.3   \n",
       "4 2016-01-01 00:40:00+00:00             4.7             7.3             6.2   \n",
       "\n",
       "   Var_Windspeed1  Min_Windspeed2  Max_Windspeed2  Avg_Windspeed2  \\\n",
       "0            0.21             3.8             6.0             5.1   \n",
       "1            0.09             4.1             6.0             5.2   \n",
       "2            0.26             4.4             6.8             5.8   \n",
       "3            0.11             5.1             7.1             6.4   \n",
       "4            0.27             4.9             7.4             6.3   \n",
       "\n",
       "   Var_Windspeed2  Min_Winddirection2  ...  Anemometer2_CorrOffset  \\\n",
       "0            0.22                 236  ...                       0   \n",
       "1            0.10                 236  ...                       0   \n",
       "2            0.30                 236  ...                       0   \n",
       "3            0.12                 236  ...                       0   \n",
       "4            0.27                 236  ...                       0   \n",
       "\n",
       "   DistanceAirPress  AirRessureSensorZeroOffset  Anemometer1_Avg_Freq  \\\n",
       "0                 0                         600                    98   \n",
       "1                 0                         600                    99   \n",
       "2                 0                         600                   111   \n",
       "3                 0                         600                   122   \n",
       "4                 0                         600                   121   \n",
       "\n",
       "   Anemometer2_Avg_Freq  Pressure_Avg_Freq  Year  Month  Day  Hour  \n",
       "0                    99                418  2016      1    1     0  \n",
       "1                   101                418  2016      1    1     0  \n",
       "2                   113                418  2016      1    1     0  \n",
       "3                   125                418  2016      1    1     0  \n",
       "4                   123                417  2016      1    1     0  \n",
       "\n",
       "[5 rows x 45 columns]"
      ]
     },
     "execution_count": 5,
     "metadata": {},
     "output_type": "execute_result"
    }
   ],
   "source": [
    "df.head()"
   ]
  },
  {
   "cell_type": "code",
   "execution_count": 6,
   "id": "8be3a400",
   "metadata": {},
   "outputs": [],
   "source": [
    "df['Timestamp'] = pd.to_datetime(df['Timestamp'])"
   ]
  },
  {
   "cell_type": "code",
   "execution_count": 7,
   "id": "e6311c65",
   "metadata": {},
   "outputs": [],
   "source": [
    "df = df[['Timestamp','Min_Windspeed1']]"
   ]
  },
  {
   "cell_type": "code",
   "execution_count": 8,
   "id": "8375d1e1",
   "metadata": {},
   "outputs": [
    {
     "data": {
      "text/plain": [
       "(Timestamp('2016-01-01 00:00:00+0000', tz='UTC'),\n",
       " Timestamp('2016-12-31 23:50:00+0000', tz='UTC'))"
      ]
     },
     "execution_count": 8,
     "metadata": {},
     "output_type": "execute_result"
    }
   ],
   "source": [
    "df['Timestamp'].min(), df['Timestamp'].max()"
   ]
  },
  {
   "cell_type": "code",
   "execution_count": 10,
   "id": "e0a55a44",
   "metadata": {},
   "outputs": [],
   "source": [
    "scaled = df.drop(columns = ['Timestamp'])"
   ]
  },
  {
   "cell_type": "code",
   "execution_count": 11,
   "id": "7a7b684a",
   "metadata": {},
   "outputs": [
    {
     "data": {
      "text/plain": [
       "array([[-0.23771023],\n",
       "       [-0.09139006],\n",
       "       [ 0.05493011],\n",
       "       ...,\n",
       "       [-0.23771023],\n",
       "       [ 0.05493011],\n",
       "       [ 0.09151015]])"
      ]
     },
     "execution_count": 11,
     "metadata": {},
     "output_type": "execute_result"
    }
   ],
   "source": [
    "from sklearn.preprocessing import StandardScaler\n",
    "scalar = StandardScaler()\n",
    "df_scaled = scalar.fit_transform(scaled)\n",
    "df_scaled"
   ]
  },
  {
   "cell_type": "code",
   "execution_count": 12,
   "id": "a09e0730",
   "metadata": {},
   "outputs": [
    {
     "ename": "IndexError",
     "evalue": "only integers, slices (`:`), ellipsis (`...`), numpy.newaxis (`None`) and integer or boolean arrays are valid indices",
     "output_type": "error",
     "traceback": [
      "\u001b[0;31m---------------------------------------------------------------------------\u001b[0m",
      "\u001b[0;31mIndexError\u001b[0m                                Traceback (most recent call last)",
      "\u001b[0;32m/var/folders/d8/dw506phd7nl1hkbf0yg3zkcw0000gn/T/ipykernel_36489/2452919910.py\u001b[0m in \u001b[0;36m<module>\u001b[0;34m\u001b[0m\n\u001b[1;32m      1\u001b[0m \u001b[0mfig\u001b[0m \u001b[0;34m=\u001b[0m \u001b[0mgo\u001b[0m\u001b[0;34m.\u001b[0m\u001b[0mFigure\u001b[0m\u001b[0;34m(\u001b[0m\u001b[0;34m)\u001b[0m\u001b[0;34m\u001b[0m\u001b[0;34m\u001b[0m\u001b[0m\n\u001b[0;32m----> 2\u001b[0;31m \u001b[0mfig\u001b[0m\u001b[0;34m.\u001b[0m\u001b[0madd_trace\u001b[0m\u001b[0;34m(\u001b[0m\u001b[0mgo\u001b[0m\u001b[0;34m.\u001b[0m\u001b[0mScatter\u001b[0m\u001b[0;34m(\u001b[0m\u001b[0mx\u001b[0m\u001b[0;34m=\u001b[0m\u001b[0mdf_scaled\u001b[0m\u001b[0;34m[\u001b[0m\u001b[0;34m'Timestamp'\u001b[0m\u001b[0;34m]\u001b[0m\u001b[0;34m,\u001b[0m \u001b[0my\u001b[0m\u001b[0;34m=\u001b[0m\u001b[0mdf_scaled\u001b[0m\u001b[0;34m[\u001b[0m\u001b[0;34m'Min_Windspeed1'\u001b[0m\u001b[0;34m]\u001b[0m\u001b[0;34m,\u001b[0m \u001b[0mname\u001b[0m\u001b[0;34m=\u001b[0m\u001b[0;34m'Min_Windspeed1'\u001b[0m\u001b[0;34m)\u001b[0m\u001b[0;34m)\u001b[0m\u001b[0;34m\u001b[0m\u001b[0;34m\u001b[0m\u001b[0m\n\u001b[0m\u001b[1;32m      3\u001b[0m \u001b[0mfig\u001b[0m\u001b[0;34m.\u001b[0m\u001b[0mupdate_layout\u001b[0m\u001b[0;34m(\u001b[0m\u001b[0mshowlegend\u001b[0m\u001b[0;34m=\u001b[0m\u001b[0;32mTrue\u001b[0m\u001b[0;34m,\u001b[0m \u001b[0mtitle\u001b[0m\u001b[0;34m=\u001b[0m\u001b[0;34m'Max_Humidity 2016'\u001b[0m\u001b[0;34m)\u001b[0m\u001b[0;34m\u001b[0m\u001b[0;34m\u001b[0m\u001b[0m\n\u001b[1;32m      4\u001b[0m \u001b[0mfig\u001b[0m\u001b[0;34m.\u001b[0m\u001b[0mshow\u001b[0m\u001b[0;34m(\u001b[0m\u001b[0;34m)\u001b[0m\u001b[0;34m\u001b[0m\u001b[0;34m\u001b[0m\u001b[0m\n",
      "\u001b[0;31mIndexError\u001b[0m: only integers, slices (`:`), ellipsis (`...`), numpy.newaxis (`None`) and integer or boolean arrays are valid indices"
     ]
    }
   ],
   "source": [
    "fig = go.Figure()\n",
    "fig.add_trace(go.Scatter(x=df_scaled['Timestamp'], y=df_scaled['Min_Windspeed1'], name='Min_Windspeed1'))\n",
    "fig.update_layout(showlegend=True, title='Max_Humidity 2016')\n",
    "fig.show()"
   ]
  },
  {
   "cell_type": "code",
   "execution_count": null,
   "id": "92d65dfb",
   "metadata": {},
   "outputs": [],
   "source": [
    "df_scaled.plot()"
   ]
  },
  {
   "cell_type": "code",
   "execution_count": null,
   "id": "546487a6",
   "metadata": {},
   "outputs": [],
   "source": [
    "df_scaled.set_index('Timestamp',inplace=True)\n",
    "df_scaled.index=pd.to_datetime(df_scaled.index)\n",
    "#drop null values\n",
    "df_scaled.dropna(inplace=True)\n",
    "df_scaled.plot()"
   ]
  },
  {
   "cell_type": "code",
   "execution_count": null,
   "id": "2d0665d1",
   "metadata": {},
   "outputs": [],
   "source": [
    "df_scaled"
   ]
  },
  {
   "cell_type": "code",
   "execution_count": null,
   "id": "f86b58bf",
   "metadata": {},
   "outputs": [],
   "source": [
    "train, test = df_scaled.loc[df_scaled['Timestamp'] <= '2016-09-01 00:00:00+0000'], df_scaled.loc[df_scaled['Timestamp'] > '2016-09-01 00:00:00+0000']"
   ]
  },
  {
   "cell_type": "code",
   "execution_count": null,
   "id": "405ea868",
   "metadata": {},
   "outputs": [],
   "source": [
    "train.tail()"
   ]
  },
  {
   "cell_type": "code",
   "execution_count": null,
   "id": "dfb6e4af",
   "metadata": {},
   "outputs": [],
   "source": [
    "test.head()"
   ]
  },
  {
   "cell_type": "code",
   "execution_count": null,
   "id": "c256ef3c",
   "metadata": {},
   "outputs": [],
   "source": [
    "train.shape,test.shape"
   ]
  },
  {
   "cell_type": "code",
   "execution_count": null,
   "id": "88ee260a",
   "metadata": {},
   "outputs": [],
   "source": [
    "scaler = StandardScaler()\n",
    "scaler = scaler.fit(train[['Max_Humidity']])\n",
    "\n",
    "train['Max_Humidity'] = scaler.transform(train[['Max_Humidity']])\n",
    "test['Max_Humidity'] = scaler.transform(test[['Max_Humidity']])\n",
    "\n"
   ]
  },
  {
   "cell_type": "code",
   "execution_count": null,
   "id": "64c214a0",
   "metadata": {},
   "outputs": [],
   "source": [
    "train"
   ]
  },
  {
   "cell_type": "code",
   "execution_count": null,
   "id": "a4de9e00",
   "metadata": {},
   "outputs": [],
   "source": [
    "TIME_STEPS=30\n",
    "\n",
    "def create_sequences(X, y, time_steps=TIME_STEPS):\n",
    "    Xs, ys = [], []\n",
    "    for i in range(len(X)-time_steps):\n",
    "        Xs.append(X.iloc[i:(i+time_steps)].values)\n",
    "        ys.append(y.iloc[i+time_steps])\n",
    "    \n",
    "    return np.array(Xs), np.array(ys)\n",
    "\n",
    "X_train, y_train = create_sequences(train[['Max_Humidity']], train['Max_Humidity'])\n",
    "X_test, y_test = create_sequences(test[['Max_Humidity']], test['Max_Humidity'])"
   ]
  },
  {
   "cell_type": "code",
   "execution_count": null,
   "id": "e74fdc58",
   "metadata": {},
   "outputs": [],
   "source": [
    "print(f'Training shape: {X_train.shape}')\n",
    "\n",
    "print(f'Testing shape: {X_test.shape}')"
   ]
  },
  {
   "cell_type": "code",
   "execution_count": null,
   "id": "67321816",
   "metadata": {},
   "outputs": [],
   "source": [
    "\n",
    "model = Sequential()\n",
    "\n",
    "# model.add(keras.layers.LSTM(64,input_shape=inputshape))\n",
    "model.add(LSTM(128, input_shape=(X_train.shape[1], X_train.shape[2])))\n",
    "model.add(Dropout(rate=0.2))\n",
    "model.add(RepeatVector(X_train.shape[1]))\n",
    "model.add(LSTM(128, return_sequences=True))\n",
    "model.add(Dropout(rate=0.2))\n",
    "model.add(TimeDistributed(Dense(X_train.shape[2])))\n",
    "model.compile(optimizer='adam', loss='mae')\n",
    "model.summary()"
   ]
  },
  {
   "cell_type": "code",
   "execution_count": null,
   "id": "54487c50",
   "metadata": {},
   "outputs": [],
   "source": [
    "history = model.fit(X_train, y_train, epochs=100, batch_size=32, validation_split=0.1,\n",
    "                    callbacks=[keras.callbacks.EarlyStopping(monitor='val_loss', patience=3, mode='min')], shuffle=False)"
   ]
  },
  {
   "cell_type": "code",
   "execution_count": null,
   "id": "b211408b",
   "metadata": {},
   "outputs": [],
   "source": [
    "import matplotlib.pyplot as plt\n",
    "\n",
    "plt.plot(history.history['loss'], label='Training loss')\n",
    "plt.plot(history.history['val_loss'], label='Validation loss')\n",
    "plt.legend();"
   ]
  },
  {
   "cell_type": "code",
   "execution_count": null,
   "id": "0746f366",
   "metadata": {},
   "outputs": [],
   "source": [
    "model.evaluate(X_test, y_test)"
   ]
  },
  {
   "cell_type": "code",
   "execution_count": null,
   "id": "235c7bfc",
   "metadata": {},
   "outputs": [],
   "source": [
    "X_train_pred = model.predict(X_train, verbose=0)\n",
    "train_mae_loss = np.mean(np.abs(X_train_pred - X_train), axis=1)\n",
    "\n",
    "plt.hist(train_mae_loss, bins=50)\n",
    "plt.xlabel('Train MAE loss')\n",
    "plt.ylabel('Number of Samples');\n",
    "threshold = np.max(train_mae_loss)-0.8\n",
    "# threshold = 1.75\n",
    "print(f'Reconstruction error threshold: {threshold}')"
   ]
  },
  {
   "cell_type": "code",
   "execution_count": null,
   "id": "4d8e357c",
   "metadata": {},
   "outputs": [],
   "source": [
    "X_test_pred = model.predict(X_test, verbose=0)\n",
    "test_mae_loss = np.mean(np.abs(X_test_pred-X_test), axis=1)\n",
    "\n",
    "plt.hist(test_mae_loss, bins=50)\n",
    "plt.xlabel('Test MAE loss')\n",
    "plt.ylabel('Number of samples');"
   ]
  },
  {
   "cell_type": "code",
   "execution_count": null,
   "id": "af6cdab7",
   "metadata": {},
   "outputs": [],
   "source": [
    "test_score_df = pd.DataFrame(test[TIME_STEPS:])\n",
    "test_score_df['loss'] = test_mae_loss\n",
    "test_score_df['threshold'] = threshold\n",
    "test_score_df['anomaly'] = test_score_df['loss'] > test_score_df['threshold']\n",
    "test_score_df['Max_Humidity'] = test[TIME_STEPS:]['Max_Humidity']"
   ]
  },
  {
   "cell_type": "code",
   "execution_count": null,
   "id": "bb2278e8",
   "metadata": {},
   "outputs": [],
   "source": [
    "test_score_df.tail()"
   ]
  },
  {
   "cell_type": "code",
   "execution_count": null,
   "id": "7f85cecf",
   "metadata": {},
   "outputs": [],
   "source": [
    "fig = go.Figure()\n",
    "fig.add_trace(go.Scatter(x=test_score_df['Timestamp'], y=test_score_df['loss'], name='Test loss'))\n",
    "fig.add_trace(go.Scatter(x=test_score_df['Timestamp'], y=test_score_df['threshold'], name='Threshold'))\n",
    "fig.update_layout(showlegend=True, title='Test loss vs. Threshold')\n",
    "fig.show()"
   ]
  },
  {
   "cell_type": "code",
   "execution_count": null,
   "id": "2dfeebf3",
   "metadata": {},
   "outputs": [],
   "source": [
    "anomalies = test_score_df.loc[test_score_df['anomaly'] == True]\n",
    "anomalies.head()"
   ]
  },
  {
   "cell_type": "code",
   "execution_count": null,
   "id": "869010b8",
   "metadata": {},
   "outputs": [],
   "source": [
    "test_score_df"
   ]
  },
  {
   "cell_type": "code",
   "execution_count": null,
   "id": "db15217f",
   "metadata": {},
   "outputs": [],
   "source": [
    "fig = go.Figure()\n",
    "fig.add_trace(go.Scatter(x=test_score_df['Timestamp'], y=scaler.inverse_transform(test_score_df['Max_Humidity']), name='Max_Humidity'))\n",
    "fig.add_trace(go.Scatter(x=anomalies['Timestamp'], y=scaler.inverse_transform(anomalies['Max_Humidity']), mode='markers', name='Anomaly'))\n",
    "fig.update_layout(showlegend=True, title='Detected anomalies')\n",
    "fig.show()"
   ]
  }
 ],
 "metadata": {
  "kernelspec": {
   "display_name": "Python 3 (ipykernel)",
   "language": "python",
   "name": "python3"
  },
  "language_info": {
   "codemirror_mode": {
    "name": "ipython",
    "version": 3
   },
   "file_extension": ".py",
   "mimetype": "text/x-python",
   "name": "python",
   "nbconvert_exporter": "python",
   "pygments_lexer": "ipython3",
   "version": "3.9.7"
  }
 },
 "nbformat": 4,
 "nbformat_minor": 5
}
